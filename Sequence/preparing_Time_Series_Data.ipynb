{
  "nbformat": 4,
  "nbformat_minor": 0,
  "metadata": {
    "colab": {
      "name": "preparing Time Series Data",
      "provenance": [],
      "authorship_tag": "ABX9TyMphgpwattUUz0da2PAq9ad",
      "include_colab_link": true
    },
    "kernelspec": {
      "name": "python3",
      "display_name": "Python 3"
    }
  },
  "cells": [
    {
      "cell_type": "markdown",
      "metadata": {
        "id": "view-in-github",
        "colab_type": "text"
      },
      "source": [
        "<a href=\"https://colab.research.google.com/github/DilshanManathunge/TensorflowPractice/blob/master/Sequence/preparing_Time_Series_Data.ipynb\" target=\"_parent\"><img src=\"https://colab.research.google.com/assets/colab-badge.svg\" alt=\"Open In Colab\"/></a>"
      ]
    },
    {
      "cell_type": "code",
      "metadata": {
        "id": "Ywm1ufD5XtiI",
        "colab_type": "code",
        "colab": {}
      },
      "source": [
        "import tensorflow as tf \n",
        "import numpy as np \n",
        "import matplotlib.pyplot as plt "
      ],
      "execution_count": 1,
      "outputs": []
    },
    {
      "cell_type": "code",
      "metadata": {
        "id": "gnkwWWNhX7ys",
        "colab_type": "code",
        "colab": {}
      },
      "source": [
        "dataset = tf.data.Dataset.range(10)"
      ],
      "execution_count": 23,
      "outputs": []
    },
    {
      "cell_type": "code",
      "metadata": {
        "id": "aDP86ad8YF4a",
        "colab_type": "code",
        "colab": {}
      },
      "source": [
        "dataset = dataset.window(5,shift=1)"
      ],
      "execution_count": 24,
      "outputs": []
    },
    {
      "cell_type": "code",
      "metadata": {
        "id": "5z03mKVYYEOK",
        "colab_type": "code",
        "colab": {
          "base_uri": "https://localhost:8080/",
          "height": 183
        },
        "outputId": "d9292c48-daef-4092-d1b8-38abe12f0325"
      },
      "source": [
        "for window in dataset:\n",
        "  for val in window:\n",
        "    print(val.numpy(),end=' ')\n",
        "  print()"
      ],
      "execution_count": 25,
      "outputs": [
        {
          "output_type": "stream",
          "text": [
            "0 1 2 3 4 \n",
            "1 2 3 4 5 \n",
            "2 3 4 5 6 \n",
            "3 4 5 6 7 \n",
            "4 5 6 7 8 \n",
            "5 6 7 8 9 \n",
            "6 7 8 9 \n",
            "7 8 9 \n",
            "8 9 \n",
            "9 \n"
          ],
          "name": "stdout"
        }
      ]
    },
    {
      "cell_type": "code",
      "metadata": {
        "id": "R9ahdhIsYWax",
        "colab_type": "code",
        "colab": {
          "base_uri": "https://localhost:8080/",
          "height": 116
        },
        "outputId": "5814ff18-8c9e-4c71-e699-2e6680273d96"
      },
      "source": [
        "dataset = tf.data.Dataset.range(10)\n",
        "dataset = dataset.window(5,shift = 1 ,drop_remainder = True)\n",
        "for window in dataset:\n",
        "  for val in window:\n",
        "    print(val.numpy(),end = \" \")\n",
        "  print()"
      ],
      "execution_count": 28,
      "outputs": [
        {
          "output_type": "stream",
          "text": [
            "0 1 2 3 4 \n",
            "1 2 3 4 5 \n",
            "2 3 4 5 6 \n",
            "3 4 5 6 7 \n",
            "4 5 6 7 8 \n",
            "5 6 7 8 9 \n"
          ],
          "name": "stdout"
        }
      ]
    },
    {
      "cell_type": "code",
      "metadata": {
        "id": "CSRi6y61ZDx6",
        "colab_type": "code",
        "colab": {
          "base_uri": "https://localhost:8080/",
          "height": 216
        },
        "outputId": "e322649e-c1bf-43e8-c1f2-482b7b2473e4"
      },
      "source": [
        "dataset = tf.data.Dataset.range(10)\n",
        "dataset = dataset.window(5,shift = 1 ,drop_remainder = True)\n",
        "dataset = dataset.flat_map(lambda window :window.batch(5))\n",
        "for val in dataset:\n",
        "  print(val.numpy())\n",
        "  print()"
      ],
      "execution_count": 33,
      "outputs": [
        {
          "output_type": "stream",
          "text": [
            "[0 1 2 3 4]\n",
            "\n",
            "[1 2 3 4 5]\n",
            "\n",
            "[2 3 4 5 6]\n",
            "\n",
            "[3 4 5 6 7]\n",
            "\n",
            "[4 5 6 7 8]\n",
            "\n",
            "[5 6 7 8 9]\n",
            "\n"
          ],
          "name": "stdout"
        }
      ]
    },
    {
      "cell_type": "code",
      "metadata": {
        "id": "2hp8dG4fZazw",
        "colab_type": "code",
        "colab": {
          "base_uri": "https://localhost:8080/",
          "height": 216
        },
        "outputId": "786bf5e3-d74c-44d9-be11-26f97050b464"
      },
      "source": [
        "dataset = tf.data.Dataset.range(10)\n",
        "dataset = dataset.window(5,shift = 1 ,drop_remainder = True)\n",
        "dataset = dataset.flat_map(lambda window :window.batch(5))\n",
        "dataset = dataset.map(lambda window : (window[:-1],window[-1:]))\n",
        "for x,y in dataset:\n",
        "  print(x.numpy(),y.numpy())\n",
        "  print()"
      ],
      "execution_count": 35,
      "outputs": [
        {
          "output_type": "stream",
          "text": [
            "[0 1 2 3] [4]\n",
            "\n",
            "[1 2 3 4] [5]\n",
            "\n",
            "[2 3 4 5] [6]\n",
            "\n",
            "[3 4 5 6] [7]\n",
            "\n",
            "[4 5 6 7] [8]\n",
            "\n",
            "[5 6 7 8] [9]\n",
            "\n"
          ],
          "name": "stdout"
        }
      ]
    },
    {
      "cell_type": "code",
      "metadata": {
        "id": "Lp8N2aitZ4GM",
        "colab_type": "code",
        "colab": {
          "base_uri": "https://localhost:8080/",
          "height": 216
        },
        "outputId": "47c4e51c-1bf7-4bb4-884b-1da8df222682"
      },
      "source": [
        "dataset = tf.data.Dataset.range(10)\n",
        "dataset = dataset.window(5,shift = 1 ,drop_remainder = True)\n",
        "dataset = dataset.flat_map(lambda window : window.batch(5))\n",
        "dataset = dataset.map(lambda window: (window[:-1],window[-1:]))\n",
        "dataset = dataset.shuffle(buffer_size=10)\n",
        "dataset = dataset.batch(2).prefetch(1)\n",
        "\n",
        "for x,y in dataset:\n",
        "  print(\"x  = \",x.numpy())\n",
        "  print(\"y  = \",y.numpy())"
      ],
      "execution_count": 38,
      "outputs": [
        {
          "output_type": "stream",
          "text": [
            "x  =  [[4 5 6 7]\n",
            " [0 1 2 3]]\n",
            "y  =  [[8]\n",
            " [4]]\n",
            "x  =  [[1 2 3 4]\n",
            " [3 4 5 6]]\n",
            "y  =  [[5]\n",
            " [7]]\n",
            "x  =  [[2 3 4 5]\n",
            " [5 6 7 8]]\n",
            "y  =  [[6]\n",
            " [9]]\n"
          ],
          "name": "stdout"
        }
      ]
    },
    {
      "cell_type": "code",
      "metadata": {
        "id": "tjWf9_FIa69O",
        "colab_type": "code",
        "colab": {}
      },
      "source": [
        ""
      ],
      "execution_count": null,
      "outputs": []
    },
    {
      "cell_type": "code",
      "metadata": {
        "id": "D0NVvPs3ast4",
        "colab_type": "code",
        "colab": {}
      },
      "source": [
        ""
      ],
      "execution_count": null,
      "outputs": []
    }
  ]
}