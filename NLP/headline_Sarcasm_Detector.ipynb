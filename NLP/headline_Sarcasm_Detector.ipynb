{
  "nbformat": 4,
  "nbformat_minor": 0,
  "metadata": {
    "colab": {
      "name": "headline  Sarcasm Detector",
      "provenance": [],
      "authorship_tag": "ABX9TyPwp/MZ+PoCrmoSRtauOo27",
      "include_colab_link": true
    },
    "kernelspec": {
      "name": "python3",
      "display_name": "Python 3"
    }
  },
  "cells": [
    {
      "cell_type": "markdown",
      "metadata": {
        "id": "view-in-github",
        "colab_type": "text"
      },
      "source": [
        "<a href=\"https://colab.research.google.com/github/DilshanManathunge/TensorflowPractice/blob/master/NLP/headline_Sarcasm_Detector.ipynb\" target=\"_parent\"><img src=\"https://colab.research.google.com/assets/colab-badge.svg\" alt=\"Open In Colab\"/></a>"
      ]
    },
    {
      "cell_type": "code",
      "metadata": {
        "id": "Hj76uEle6UfS",
        "colab_type": "code",
        "colab": {}
      },
      "source": [
        "import json\n",
        "import tensorflow as tf \n",
        "from tensorflow.keras.preprocessing.text import Tokenizer \n",
        "from tensorflow.keras.preprocessing.sequence import pad_sequences "
      ],
      "execution_count": 2,
      "outputs": []
    },
    {
      "cell_type": "code",
      "metadata": {
        "id": "HbIPADxh6hxE",
        "colab_type": "code",
        "colab": {
          "base_uri": "https://localhost:8080/",
          "height": 200
        },
        "outputId": "3be7b8e6-9b1e-4cd3-c40b-606f1cbea34f"
      },
      "source": [
        "!wget --no-check-certificate \\\n",
        "    https://storage.googleapis.com/laurencemoroney-blog.appspot.com/sarcasm.json \\\n",
        "    -O /tmp/sarcasm.json\n"
      ],
      "execution_count": 3,
      "outputs": [
        {
          "output_type": "stream",
          "text": [
            "--2020-06-30 11:09:11--  https://storage.googleapis.com/laurencemoroney-blog.appspot.com/sarcasm.json\n",
            "Resolving storage.googleapis.com (storage.googleapis.com)... 172.217.204.128, 172.217.203.128, 173.194.216.128, ...\n",
            "Connecting to storage.googleapis.com (storage.googleapis.com)|172.217.204.128|:443... connected.\n",
            "HTTP request sent, awaiting response... 200 OK\n",
            "Length: 5643545 (5.4M) [application/json]\n",
            "Saving to: ‘/tmp/sarcasm.json’\n",
            "\n",
            "\r/tmp/sarcasm.json     0%[                    ]       0  --.-KB/s               \r/tmp/sarcasm.json   100%[===================>]   5.38M  --.-KB/s    in 0.1s    \n",
            "\n",
            "2020-06-30 11:09:12 (50.5 MB/s) - ‘/tmp/sarcasm.json’ saved [5643545/5643545]\n",
            "\n"
          ],
          "name": "stdout"
        }
      ]
    },
    {
      "cell_type": "code",
      "metadata": {
        "id": "hbVdnQfi6kKR",
        "colab_type": "code",
        "colab": {}
      },
      "source": [
        "with open(\"/tmp/sarcasm.json\") as jsonfile:\n",
        "  dataset = json.load(jsonfile)"
      ],
      "execution_count": 4,
      "outputs": []
    },
    {
      "cell_type": "code",
      "metadata": {
        "id": "P6-v4StE62PQ",
        "colab_type": "code",
        "colab": {}
      },
      "source": [
        "sentences = []\n",
        "labels = []\n",
        "\n",
        "for item in dataset:\n",
        "  sentences.append(item[\"headline\"])\n",
        "  labels.append(item[\"is_sarcastic\"])"
      ],
      "execution_count": 6,
      "outputs": []
    },
    {
      "cell_type": "code",
      "metadata": {
        "id": "p8LQfceu7Gex",
        "colab_type": "code",
        "colab": {
          "base_uri": "https://localhost:8080/",
          "height": 50
        },
        "outputId": "a5d81509-baf0-4aa9-9808-e31d470caab4"
      },
      "source": [
        "print(\"there are {} numbner of sentences\".format(len(sentences)))\n",
        "print(\"there are {} numbner of labels\".format(len(labels)))"
      ],
      "execution_count": 7,
      "outputs": [
        {
          "output_type": "stream",
          "text": [
            "there are 26709 numbner of sentences\n",
            "there are 26709 numbner of labels\n"
          ],
          "name": "stdout"
        }
      ]
    },
    {
      "cell_type": "code",
      "metadata": {
        "id": "gAkSMDrH7PmP",
        "colab_type": "code",
        "colab": {}
      },
      "source": [
        "vocab_size = 1000\n",
        "embedding_dims = 16\n",
        "max_length = 100\n",
        "trunc_type = \"post\"\n",
        "padding_type = \"post\"\n",
        "ovv_tokn = \"<oov>\"\n",
        "training_size = 20000"
      ],
      "execution_count": 8,
      "outputs": []
    },
    {
      "cell_type": "code",
      "metadata": {
        "id": "9fXETvfR7mGJ",
        "colab_type": "code",
        "colab": {}
      },
      "source": [
        "training_sentences = sentences[0:training_size]\n",
        "training_labels  = labels[0:training_size]\n",
        "testing_sentences = sentences[training_size:]\n",
        "testing_labels = labels[training_size:]\n"
      ],
      "execution_count": 10,
      "outputs": []
    },
    {
      "cell_type": "code",
      "metadata": {
        "id": "pnK7jb5W7615",
        "colab_type": "code",
        "colab": {
          "base_uri": "https://localhost:8080/",
          "height": 50
        },
        "outputId": "99c1c39c-51e1-49f2-cdca-9b4c55de02e7"
      },
      "source": [
        "print(\"there are {} numbner of Training sentences and {} number of  labels\".format(len(training_sentences),len(training_labels)))\n",
        "print(\"there are {} numbner of testing sentences and {} number of  labels\".format(len(testing_sentences),len(testing_labels)))"
      ],
      "execution_count": 15,
      "outputs": [
        {
          "output_type": "stream",
          "text": [
            "there are 20000 numbner of Training sentences and 20000 number of  labels\n",
            "there are 6709 numbner of testing sentences and 6709 number of  labels\n"
          ],
          "name": "stdout"
        }
      ]
    },
    {
      "cell_type": "code",
      "metadata": {
        "id": "XXyiMIrR8FAa",
        "colab_type": "code",
        "colab": {}
      },
      "source": [
        "tokenizer = Tokenizer(num_words=vocab_size,oov_token=ovv_tokn)\n",
        "tokenizer.fit_on_texts(training_sentences)\n",
        "word_index = tokenizer.word_index\n"
      ],
      "execution_count": 17,
      "outputs": []
    },
    {
      "cell_type": "code",
      "metadata": {
        "id": "NESfnG-h8qOm",
        "colab_type": "code",
        "colab": {}
      },
      "source": [
        "training_sequences = tokenizer.texts_to_sequences(training_sentences)\n",
        "padded_training_sequences = pad_sequences(training_sequences,maxlen =max_length,padding=padding_type,truncating=trunc_type)"
      ],
      "execution_count": 22,
      "outputs": []
    },
    {
      "cell_type": "code",
      "metadata": {
        "id": "odqmFVFa8sZ8",
        "colab_type": "code",
        "colab": {}
      },
      "source": [
        "testing_sequences = tokenizer.texts_to_sequences(testing_sentences)\n",
        "padded_testing_sequences = pad_sequences(testing_sequences,maxlen=max_length,padding=padding_type,truncating=trunc_type)"
      ],
      "execution_count": 23,
      "outputs": []
    },
    {
      "cell_type": "code",
      "metadata": {
        "id": "547V7V_r8ytH",
        "colab_type": "code",
        "colab": {}
      },
      "source": [
        "import numpy as np\n",
        "\n",
        "padded_training_sequences = np.array(padded_training_sequences)\n",
        "padded_testing_sequences = np.array(padded_testing_sequences)\n",
        "training_labels = np.array(training_labels)\n",
        "testing_labels = np.array(testing_labels)"
      ],
      "execution_count": 24,
      "outputs": []
    },
    {
      "cell_type": "code",
      "metadata": {
        "id": "VQLhP_8s_GbB",
        "colab_type": "code",
        "colab": {
          "base_uri": "https://localhost:8080/",
          "height": 50
        },
        "outputId": "e0f825c2-3483-4e52-9886-b339f67ce62d"
      },
      "source": [
        "print(padded_training_sequences.shape)\n",
        "print(padded_testing_sequences.shape)"
      ],
      "execution_count": 30,
      "outputs": [
        {
          "output_type": "stream",
          "text": [
            "(20000, 100)\n",
            "(6709, 100)\n"
          ],
          "name": "stdout"
        }
      ]
    },
    {
      "cell_type": "code",
      "metadata": {
        "id": "EimPrx9F97Z7",
        "colab_type": "code",
        "colab": {}
      },
      "source": [
        "from tensorflow.keras.models import Sequential \n",
        "from tensorflow.keras.layers import Dense,GlobalAveragePooling1D,Embedding"
      ],
      "execution_count": 25,
      "outputs": []
    },
    {
      "cell_type": "code",
      "metadata": {
        "id": "i8Dr-tsD-LkC",
        "colab_type": "code",
        "colab": {}
      },
      "source": [
        "model = Sequential([\n",
        "                    Embedding(vocab_size,embedding_dims,input_length=max_length),\n",
        "                    GlobalAveragePooling1D(),\n",
        "                    Dense(24,activation = \"relu\"),\n",
        "                    Dense(1,activation= \"sigmoid\")\n",
        "])\n",
        "model.compile(loss=\"binary_crossentropy\",optimizer =\"adam\",metrics =['accuracy'])\n"
      ],
      "execution_count": 27,
      "outputs": []
    },
    {
      "cell_type": "code",
      "metadata": {
        "id": "xErs79ud-uHE",
        "colab_type": "code",
        "colab": {
          "base_uri": "https://localhost:8080/",
          "height": 283
        },
        "outputId": "908a5271-b1e6-4d5b-bf7a-45963887ba97"
      },
      "source": [
        "model.summary()"
      ],
      "execution_count": 28,
      "outputs": [
        {
          "output_type": "stream",
          "text": [
            "Model: \"sequential_1\"\n",
            "_________________________________________________________________\n",
            "Layer (type)                 Output Shape              Param #   \n",
            "=================================================================\n",
            "embedding_1 (Embedding)      (None, 100, 16)           16000     \n",
            "_________________________________________________________________\n",
            "global_average_pooling1d_1 ( (None, 16)                0         \n",
            "_________________________________________________________________\n",
            "dense_2 (Dense)              (None, 24)                408       \n",
            "_________________________________________________________________\n",
            "dense_3 (Dense)              (None, 1)                 25        \n",
            "=================================================================\n",
            "Total params: 16,433\n",
            "Trainable params: 16,433\n",
            "Non-trainable params: 0\n",
            "_________________________________________________________________\n"
          ],
          "name": "stdout"
        }
      ]
    },
    {
      "cell_type": "code",
      "metadata": {
        "id": "HKp-bmgZ-xfh",
        "colab_type": "code",
        "colab": {
          "base_uri": "https://localhost:8080/",
          "height": 1000
        },
        "outputId": "2973c811-3293-433f-b95e-bd35716c0626"
      },
      "source": [
        "history = model.fit(padded_training_sequences,training_labels,epochs=30,validation_data=(padded_testing_sequences,testing_labels))"
      ],
      "execution_count": 54,
      "outputs": [
        {
          "output_type": "stream",
          "text": [
            "Epoch 1/30\n",
            "625/625 [==============================] - 1s 2ms/step - loss: 0.3430 - accuracy: 0.8453 - val_loss: 0.4109 - val_accuracy: 0.8100\n",
            "Epoch 2/30\n",
            "625/625 [==============================] - 1s 2ms/step - loss: 0.3427 - accuracy: 0.8461 - val_loss: 0.4213 - val_accuracy: 0.8040\n",
            "Epoch 3/30\n",
            "625/625 [==============================] - 1s 2ms/step - loss: 0.3428 - accuracy: 0.8450 - val_loss: 0.4174 - val_accuracy: 0.8077\n",
            "Epoch 4/30\n",
            "625/625 [==============================] - 1s 2ms/step - loss: 0.3454 - accuracy: 0.8418 - val_loss: 0.4108 - val_accuracy: 0.8113\n",
            "Epoch 5/30\n",
            "625/625 [==============================] - 1s 2ms/step - loss: 0.3426 - accuracy: 0.8449 - val_loss: 0.4193 - val_accuracy: 0.8052\n",
            "Epoch 6/30\n",
            "625/625 [==============================] - 1s 2ms/step - loss: 0.3428 - accuracy: 0.8448 - val_loss: 0.4107 - val_accuracy: 0.8100\n",
            "Epoch 7/30\n",
            "625/625 [==============================] - 1s 2ms/step - loss: 0.3420 - accuracy: 0.8457 - val_loss: 0.4171 - val_accuracy: 0.8068\n",
            "Epoch 8/30\n",
            "625/625 [==============================] - 1s 2ms/step - loss: 0.3414 - accuracy: 0.8453 - val_loss: 0.4140 - val_accuracy: 0.8113\n",
            "Epoch 9/30\n",
            "625/625 [==============================] - 1s 2ms/step - loss: 0.3422 - accuracy: 0.8439 - val_loss: 0.4107 - val_accuracy: 0.8103\n",
            "Epoch 10/30\n",
            "625/625 [==============================] - 1s 2ms/step - loss: 0.3426 - accuracy: 0.8456 - val_loss: 0.4141 - val_accuracy: 0.8095\n",
            "Epoch 11/30\n",
            "625/625 [==============================] - 1s 2ms/step - loss: 0.3422 - accuracy: 0.8454 - val_loss: 0.4122 - val_accuracy: 0.8098\n",
            "Epoch 12/30\n",
            "625/625 [==============================] - 1s 2ms/step - loss: 0.3424 - accuracy: 0.8442 - val_loss: 0.4122 - val_accuracy: 0.8098\n",
            "Epoch 13/30\n",
            "625/625 [==============================] - 1s 2ms/step - loss: 0.3424 - accuracy: 0.8469 - val_loss: 0.4118 - val_accuracy: 0.8103\n",
            "Epoch 14/30\n",
            "625/625 [==============================] - 1s 2ms/step - loss: 0.3412 - accuracy: 0.8454 - val_loss: 0.4147 - val_accuracy: 0.8088\n",
            "Epoch 15/30\n",
            "625/625 [==============================] - 1s 2ms/step - loss: 0.3410 - accuracy: 0.8460 - val_loss: 0.4108 - val_accuracy: 0.8110\n",
            "Epoch 16/30\n",
            "625/625 [==============================] - 1s 2ms/step - loss: 0.3418 - accuracy: 0.8443 - val_loss: 0.4128 - val_accuracy: 0.8086\n",
            "Epoch 17/30\n",
            "625/625 [==============================] - 1s 2ms/step - loss: 0.3413 - accuracy: 0.8449 - val_loss: 0.4107 - val_accuracy: 0.8111\n",
            "Epoch 18/30\n",
            "625/625 [==============================] - 1s 2ms/step - loss: 0.3409 - accuracy: 0.8457 - val_loss: 0.4117 - val_accuracy: 0.8103\n",
            "Epoch 19/30\n",
            "625/625 [==============================] - 1s 2ms/step - loss: 0.3411 - accuracy: 0.8426 - val_loss: 0.4107 - val_accuracy: 0.8107\n",
            "Epoch 20/30\n",
            "625/625 [==============================] - 1s 2ms/step - loss: 0.3409 - accuracy: 0.8460 - val_loss: 0.4409 - val_accuracy: 0.7955\n",
            "Epoch 21/30\n",
            "625/625 [==============================] - 1s 2ms/step - loss: 0.3404 - accuracy: 0.8442 - val_loss: 0.4126 - val_accuracy: 0.8092\n",
            "Epoch 22/30\n",
            "625/625 [==============================] - 1s 2ms/step - loss: 0.3396 - accuracy: 0.8453 - val_loss: 0.4126 - val_accuracy: 0.8089\n",
            "Epoch 23/30\n",
            "625/625 [==============================] - 1s 2ms/step - loss: 0.3394 - accuracy: 0.8457 - val_loss: 0.4108 - val_accuracy: 0.8119\n",
            "Epoch 24/30\n",
            "625/625 [==============================] - 1s 2ms/step - loss: 0.3388 - accuracy: 0.8469 - val_loss: 0.4096 - val_accuracy: 0.8110\n",
            "Epoch 25/30\n",
            "625/625 [==============================] - 1s 2ms/step - loss: 0.3382 - accuracy: 0.8450 - val_loss: 0.4102 - val_accuracy: 0.8117\n",
            "Epoch 26/30\n",
            "625/625 [==============================] - 1s 2ms/step - loss: 0.3377 - accuracy: 0.8464 - val_loss: 0.4144 - val_accuracy: 0.8122\n",
            "Epoch 27/30\n",
            "625/625 [==============================] - 1s 2ms/step - loss: 0.3364 - accuracy: 0.8456 - val_loss: 0.4151 - val_accuracy: 0.8111\n",
            "Epoch 28/30\n",
            "625/625 [==============================] - 1s 2ms/step - loss: 0.3350 - accuracy: 0.8472 - val_loss: 0.4120 - val_accuracy: 0.8128\n",
            "Epoch 29/30\n",
            "625/625 [==============================] - 1s 2ms/step - loss: 0.3338 - accuracy: 0.8464 - val_loss: 0.4073 - val_accuracy: 0.8106\n",
            "Epoch 30/30\n",
            "625/625 [==============================] - 1s 2ms/step - loss: 0.3341 - accuracy: 0.8461 - val_loss: 0.4070 - val_accuracy: 0.8122\n"
          ],
          "name": "stdout"
        }
      ]
    },
    {
      "cell_type": "code",
      "metadata": {
        "id": "3jhG48mF--jR",
        "colab_type": "code",
        "colab": {
          "base_uri": "https://localhost:8080/",
          "height": 1000
        },
        "outputId": "e0ee8546-c39d-441e-9149-fbdabbc1e591"
      },
      "source": [
        "import matplotlib.pyplot as plt \n",
        "\n",
        "def plot_graph(history,string):\n",
        "  plt.plot(history.history[string])\n",
        "  plt.plot(history.history[\"val_\"+string])\n",
        "  plt.xlabel(\"Epochs\")\n",
        "  plt.ylabel(string)\n",
        "  plt.legend(string,\"val_\"+string)\n",
        "  plt.show()\n",
        "\n",
        "plot_graph(history,\"accuracy\")\n",
        "plot_graph(history,\"loss\")"
      ],
      "execution_count": 55,
      "outputs": [
        {
          "output_type": "stream",
          "text": [
            "/usr/local/lib/python3.6/dist-packages/ipykernel_launcher.py:8: UserWarning: The handle 'u' has a label of '_' which cannot be automatically added to the legend.\n",
            "  \n",
            "/usr/local/lib/python3.6/dist-packages/ipykernel_launcher.py:8: UserWarning: Legend does not support 'a' instances.\n",
            "A proxy artist may be used instead.\n",
            "See: http://matplotlib.org/users/legend_guide.html#creating-artists-specifically-for-adding-to-the-legend-aka-proxy-artists\n",
            "  \n",
            "/usr/local/lib/python3.6/dist-packages/ipykernel_launcher.py:8: UserWarning: Legend does not support 'c' instances.\n",
            "A proxy artist may be used instead.\n",
            "See: http://matplotlib.org/users/legend_guide.html#creating-artists-specifically-for-adding-to-the-legend-aka-proxy-artists\n",
            "  \n",
            "/usr/local/lib/python3.6/dist-packages/ipykernel_launcher.py:8: UserWarning: Legend does not support 'r' instances.\n",
            "A proxy artist may be used instead.\n",
            "See: http://matplotlib.org/users/legend_guide.html#creating-artists-specifically-for-adding-to-the-legend-aka-proxy-artists\n",
            "  \n",
            "/usr/local/lib/python3.6/dist-packages/ipykernel_launcher.py:8: UserWarning: Legend does not support 'y' instances.\n",
            "A proxy artist may be used instead.\n",
            "See: http://matplotlib.org/users/legend_guide.html#creating-artists-specifically-for-adding-to-the-legend-aka-proxy-artists\n",
            "  \n"
          ],
          "name": "stderr"
        },
        {
          "output_type": "display_data",
          "data": {
            "image/png": "[encoded data removed]",
            "text/plain": [
              "<Figure size 432x288 with 1 Axes>"
            ]
          },
          "metadata": {
            "tags": [],
            "needs_background": "light"
          }
        },
        {
          "output_type": "stream",
          "text": [
            "/usr/local/lib/python3.6/dist-packages/ipykernel_launcher.py:8: UserWarning: The handle 's' has a label of '_' which cannot be automatically added to the legend.\n",
            "  \n",
            "/usr/local/lib/python3.6/dist-packages/ipykernel_launcher.py:8: UserWarning: Legend does not support 'l' instances.\n",
            "A proxy artist may be used instead.\n",
            "See: http://matplotlib.org/users/legend_guide.html#creating-artists-specifically-for-adding-to-the-legend-aka-proxy-artists\n",
            "  \n",
            "/usr/local/lib/python3.6/dist-packages/ipykernel_launcher.py:8: UserWarning: Legend does not support 'o' instances.\n",
            "A proxy artist may be used instead.\n",
            "See: http://matplotlib.org/users/legend_guide.html#creating-artists-specifically-for-adding-to-the-legend-aka-proxy-artists\n",
            "  \n",
            "/usr/local/lib/python3.6/dist-packages/ipykernel_launcher.py:8: UserWarning: Legend does not support 's' instances.\n",
            "A proxy artist may be used instead.\n",
            "See: http://matplotlib.org/users/legend_guide.html#creating-artists-specifically-for-adding-to-the-legend-aka-proxy-artists\n",
            "  \n"
          ],
          "name": "stderr"
        },
        {
          "output_type": "display_data",
          "data": {
            "image/png": "[encoded data removed]",
            "text/plain": [
              "<Figure size 432x288 with 1 Axes>"
            ]
          },
          "metadata": {
            "tags": [],
            "needs_background": "light"
          }
        }
      ]
    },
    {
      "cell_type": "code",
      "metadata": {
        "id": "tYBTwj3i_zgN",
        "colab_type": "code",
        "colab": {}
      },
      "source": [
        "zreverse_word_index = dict([(value,key) for (key,value) in word_index.items() ])"
      ],
      "execution_count": 41,
      "outputs": []
    },
    {
      "cell_type": "code",
      "metadata": {
        "id": "ilLKt0MQAg9z",
        "colab_type": "code",
        "colab": {}
      },
      "source": [
        "def decode_sentence(text):\n",
        "  return ''.join([reverse_word_index.get(i,\"?\") for i in text])"
      ],
      "execution_count": 45,
      "outputs": []
    },
    {
      "cell_type": "code",
      "metadata": {
        "id": "raB0gjqBAvGh",
        "colab_type": "code",
        "colab": {
          "base_uri": "https://localhost:8080/",
          "height": 66
        },
        "outputId": "fac4eab9-f231-4ee8-c9c2-f295e571f7af"
      },
      "source": [
        "print(decode_sentence(padded_training_sequences[0]))\n",
        "print(training_sentences[2])\n",
        "print(labels[2])"
      ],
      "execution_count": 49,
      "outputs": [
        {
          "output_type": "stream",
          "text": [
            "former<oov>store<oov><oov>oversecret<oov><oov>for<oov><oov>????????????????????????????????????????????????????????????????????????????????????????\n",
            "mom starting to fear son's web series closest thing she will have to grandchild\n",
            "1\n"
          ],
          "name": "stdout"
        }
      ]
    },
    {
      "cell_type": "code",
      "metadata": {
        "id": "3QLjopmzAyt5",
        "colab_type": "code",
        "colab": {
          "base_uri": "https://localhost:8080/",
          "height": 33
        },
        "outputId": "8d61e413-691c-404c-dd9c-8da824ed31da"
      },
      "source": [
        "e = model.layers[0]\n",
        "weights = e.get_weights()[0]\n",
        "print(weights.shape)"
      ],
      "execution_count": 50,
      "outputs": [
        {
          "output_type": "stream",
          "text": [
            "(1000, 16)\n"
          ],
          "name": "stdout"
        }
      ]
    },
    {
      "cell_type": "code",
      "metadata": {
        "id": "MJaLkrJxBUwh",
        "colab_type": "code",
        "colab": {
          "base_uri": "https://localhost:8080/",
          "height": 33
        },
        "outputId": "e14bbf12-b1f8-476b-90c5-b1c98d28ede2"
      },
      "source": [
        "sentence = [\"City Enters Phase 4 Of Pretending dead  is Over\"]\n",
        "sequences = tokenizer.texts_to_sequences(sentence)\n",
        "padded = pad_sequences(sequences, maxlen=max_length, padding=padding_type, truncating=trunc_type)\n",
        "print(model.predict(padded))"
      ],
      "execution_count": 57,
      "outputs": [
        {
          "output_type": "stream",
          "text": [
            "[[0.04027229]]\n"
          ],
          "name": "stdout"
        }
      ]
    },
    {
      "cell_type": "code",
      "metadata": {
        "id": "te_vFKJUBa1B",
        "colab_type": "code",
        "colab": {}
      },
      "source": [
        ""
      ],
      "execution_count": null,
      "outputs": []
    }
  ]
}