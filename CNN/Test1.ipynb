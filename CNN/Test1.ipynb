{
  "nbformat": 4,
  "nbformat_minor": 0,
  "metadata": {
    "colab": {
      "name": "Test1",
      "provenance": [],
      "collapsed_sections": [],
      "authorship_tag": "ABX9TyOvJTz7EjLme1/J9pEje1Cu",
      "include_colab_link": true
    },
    "kernelspec": {
      "name": "python3",
      "display_name": "Python 3"
    }
  },
  "cells": [
    {
      "cell_type": "markdown",
      "metadata": {
        "id": "view-in-github",
        "colab_type": "text"
      },
      "source": [
        "<a href=\"https://colab.research.google.com/github/DilshanManathunge/TensorflowPractice/blob/master/CNN/Test1.ipynb\" target=\"_parent\"><img src=\"https://colab.research.google.com/assets/colab-badge.svg\" alt=\"Open In Colab\"/></a>"
      ]
    },
    {
      "cell_type": "code",
      "metadata": {
        "id": "fluAWiBSNbXl",
        "colab_type": "code",
        "colab": {}
      },
      "source": [
        "wello"
      ],
      "execution_count": null,
      "outputs": []
    }
  ]
}