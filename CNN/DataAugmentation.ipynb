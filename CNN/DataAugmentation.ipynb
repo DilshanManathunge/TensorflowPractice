{
  "nbformat": 4,
  "nbformat_minor": 0,
  "metadata": {
    "colab": {
      "name": "DataAugmentation",
      "provenance": [],
      "collapsed_sections": [],
      "authorship_tag": "ABX9TyPZu1xSZIBkLEeOeI+yYJRv",
      "include_colab_link": true
    },
    "kernelspec": {
      "name": "python3",
      "display_name": "Python 3"
    }
  },
  "cells": [
    {
      "cell_type": "markdown",
      "metadata": {
        "id": "view-in-github",
        "colab_type": "text"
      },
      "source": [
        "<a href=\"https://colab.research.google.com/github/DilshanManathunge/TensorflowPractice/blob/master/CNN/DataAugmentation.ipynb\" target=\"_parent\"><img src=\"https://colab.research.google.com/assets/colab-badge.svg\" alt=\"Open In Colab\"/></a>"
      ]
    },
    {
      "cell_type": "code",
      "metadata": {
        "id": "fluAWiBSNbXl",
        "colab_type": "code",
        "colab": {
          "base_uri": "https://localhost:8080/",
          "height": 204
        },
        "outputId": "feedd44a-c2ed-473d-e081-e4ca55f16477"
      },
      "source": [
        "!wget --no-check-certificate \\\n",
        "    https://storage.googleapis.com/mledu-datasets/cats_and_dogs_filtered.zip \\\n",
        "    -O sample_data/cats_and_dogs_filtered.zip"
      ],
      "execution_count": 5,
      "outputs": [
        {
          "output_type": "stream",
          "text": [
            "--2020-06-25 11:34:17--  https://storage.googleapis.com/mledu-datasets/cats_and_dogs_filtered.zip\n",
            "Resolving storage.googleapis.com (storage.googleapis.com)... 74.125.142.128, 2607:f8b0:400e:c08::80\n",
            "Connecting to storage.googleapis.com (storage.googleapis.com)|74.125.142.128|:443... connected.\n",
            "HTTP request sent, awaiting response... 200 OK\n",
            "Length: 68606236 (65M) [application/zip]\n",
            "Saving to: ‘sample_data/cats_and_dogs_filtered.zip’\n",
            "\n",
            "\r          sample_da   0%[                    ]       0  --.-KB/s               \r         sample_dat  56%[==========>         ]  36.68M   183MB/s               \rsample_data/cats_an 100%[===================>]  65.43M   214MB/s    in 0.3s    \n",
            "\n",
            "2020-06-25 11:34:17 (214 MB/s) - ‘sample_data/cats_and_dogs_filtered.zip’ saved [68606236/68606236]\n",
            "\n"
          ],
          "name": "stdout"
        }
      ]
    },
    {
      "cell_type": "code",
      "metadata": {
        "id": "Lz7IHZu1OAXo",
        "colab_type": "code",
        "colab": {}
      },
      "source": [
        "import os \n",
        "import zipfile \n",
        "import tensorflow as tf\n",
        "from tensorflow.keras.models import Sequential\n",
        "from tensorflow.keras.layers import Conv2D,MaxPool2D,Flatten,Dense\n",
        "from tensorflow.keras.optimizers import RMSprop\n",
        "from tensorflow.keras.preprocessing.image import ImageDataGenerator"
      ],
      "execution_count": 17,
      "outputs": []
    },
    {
      "cell_type": "code",
      "metadata": {
        "id": "A7LuH_YxOAac",
        "colab_type": "code",
        "colab": {}
      },
      "source": [
        "local_zip = \"/content/sample_data/cats_and_dogs_filtered.zip\"\n",
        "zip_ref  = zipfile.ZipFile(local_zip,\"r\")\n",
        "zip_ref.extractall(\"/content/sample_data\")\n",
        "zip_ref.close()"
      ],
      "execution_count": 7,
      "outputs": []
    },
    {
      "cell_type": "code",
      "metadata": {
        "id": "agRSxGLbQzkp",
        "colab_type": "code",
        "colab": {}
      },
      "source": [
        "base_dir = \"/content/sample_data/cats_and_dogs_filtered\"\n",
        "train_dir = os.path.join(base_dir,\"train\")\n",
        "validation_dir = os.path.join(base_dir,\"validation\")"
      ],
      "execution_count": 8,
      "outputs": []
    },
    {
      "cell_type": "code",
      "metadata": {
        "id": "JkNm-Yn3RRln",
        "colab_type": "code",
        "colab": {
          "base_uri": "https://localhost:8080/",
          "height": 34
        },
        "outputId": "a56450db-9fa5-4e23-c2a1-583e465c50a3"
      },
      "source": [
        "print(train_dir)"
      ],
      "execution_count": 9,
      "outputs": [
        {
          "output_type": "stream",
          "text": [
            "/content/sample_data/cats_and_dogs_filtered/train\n"
          ],
          "name": "stdout"
        }
      ]
    },
    {
      "cell_type": "code",
      "metadata": {
        "id": "OX28mdBPRU7V",
        "colab_type": "code",
        "colab": {}
      },
      "source": [
        "cat_train_dir = os.path.join(train_dir,\"cats\")\n",
        "dog_train_dir = os.path.join(train_dir,\"dogs\")\n",
        "cat_validation_dir = os.path.join(validation_dir,\"cats\")\n",
        "dog_validation_dir = os.path.join(validation_dir,\"dogs\")"
      ],
      "execution_count": 10,
      "outputs": []
    },
    {
      "cell_type": "code",
      "metadata": {
        "id": "J1HuB0gWRpjm",
        "colab_type": "code",
        "colab": {}
      },
      "source": [
        "model = Sequential([\n",
        "                    Conv2D(32,(3,3),activation=\"relu\",input_shape=[150,150,3]),\n",
        "                    MaxPool2D(2,2),\n",
        "                    Conv2D(64,(3,3),activation=\"relu\"),\n",
        "                    MaxPool2D(2,2),\n",
        "                    Conv2D(128,(3,3),activation=\"relu\"),\n",
        "                    MaxPool2D(2,2),\n",
        "                    Conv2D(128,(3,3),activation=\"relu\"),\n",
        "                    MaxPool2D(2,2),\n",
        "                    Flatten(),\n",
        "                    Dense(units=512,activation=\"relu\"),\n",
        "                    Dense(1,activation=\"sigmoid\")\n",
        "])"
      ],
      "execution_count": 11,
      "outputs": []
    },
    {
      "cell_type": "code",
      "metadata": {
        "id": "3Mm30GGlSPZ_",
        "colab_type": "code",
        "colab": {
          "base_uri": "https://localhost:8080/",
          "height": 527
        },
        "outputId": "4bdb3f84-132c-4142-e050-412c689ce839"
      },
      "source": [
        "model.summary()"
      ],
      "execution_count": 13,
      "outputs": [
        {
          "output_type": "stream",
          "text": [
            "Model: \"sequential\"\n",
            "_________________________________________________________________\n",
            "Layer (type)                 Output Shape              Param #   \n",
            "=================================================================\n",
            "conv2d (Conv2D)              (None, 148, 148, 32)      896       \n",
            "_________________________________________________________________\n",
            "max_pooling2d (MaxPooling2D) (None, 74, 74, 32)        0         \n",
            "_________________________________________________________________\n",
            "conv2d_1 (Conv2D)            (None, 72, 72, 64)        18496     \n",
            "_________________________________________________________________\n",
            "max_pooling2d_1 (MaxPooling2 (None, 36, 36, 64)        0         \n",
            "_________________________________________________________________\n",
            "conv2d_2 (Conv2D)            (None, 34, 34, 128)       73856     \n",
            "_________________________________________________________________\n",
            "max_pooling2d_2 (MaxPooling2 (None, 17, 17, 128)       0         \n",
            "_________________________________________________________________\n",
            "conv2d_3 (Conv2D)            (None, 15, 15, 128)       147584    \n",
            "_________________________________________________________________\n",
            "max_pooling2d_3 (MaxPooling2 (None, 7, 7, 128)         0         \n",
            "_________________________________________________________________\n",
            "flatten (Flatten)            (None, 6272)              0         \n",
            "_________________________________________________________________\n",
            "dense (Dense)                (None, 512)               3211776   \n",
            "_________________________________________________________________\n",
            "dense_1 (Dense)              (None, 1)                 513       \n",
            "=================================================================\n",
            "Total params: 3,453,121\n",
            "Trainable params: 3,453,121\n",
            "Non-trainable params: 0\n",
            "_________________________________________________________________\n"
          ],
          "name": "stdout"
        }
      ]
    },
    {
      "cell_type": "code",
      "metadata": {
        "id": "O50X2PT8SQlU",
        "colab_type": "code",
        "colab": {}
      },
      "source": [
        "model.compile(loss=\"binary_crossentropy\",optimizer=RMSprop(lr=1e-4),metrics=[\"accuracy\"])"
      ],
      "execution_count": 16,
      "outputs": []
    },
    {
      "cell_type": "code",
      "metadata": {
        "id": "k6LkukOWSiwq",
        "colab_type": "code",
        "colab": {}
      },
      "source": [
        "train_datagen = ImageDataGenerator(\n",
        "      rescale=1./255,\n",
        "      rotation_range=40,\n",
        "      width_shift_range=0.2,\n",
        "      height_shift_range=0.2,\n",
        "      shear_range=0.2,\n",
        "      zoom_range=0.2,\n",
        "      horizontal_flip=True,\n",
        "      fill_mode='nearest')\n",
        "test_datagen=ImageDataGenerator(rescale=1/255)"
      ],
      "execution_count": 25,
      "outputs": []
    },
    {
      "cell_type": "code",
      "metadata": {
        "id": "455_nW-FS5GD",
        "colab_type": "code",
        "colab": {
          "base_uri": "https://localhost:8080/",
          "height": 51
        },
        "outputId": "da7417b8-9d89-4997-9e4c-e731d55c3c7c"
      },
      "source": [
        "train_generator= train_datagen.flow_from_directory(train_dir,target_size=(150,150),batch_size=20,class_mode=\"binary\")\n",
        "test_generator= test_datagen.flow_from_directory(validation_dir,target_size=(150,150),batch_size=20,class_mode=\"binary\")"
      ],
      "execution_count": 26,
      "outputs": [
        {
          "output_type": "stream",
          "text": [
            "Found 2000 images belonging to 2 classes.\n",
            "Found 1000 images belonging to 2 classes.\n"
          ],
          "name": "stdout"
        }
      ]
    },
    {
      "cell_type": "code",
      "metadata": {
        "id": "f-dMxFvUTEz1",
        "colab_type": "code",
        "colab": {
          "base_uri": "https://localhost:8080/",
          "height": 375
        },
        "outputId": "15ecb5e2-d9fe-421b-f859-6b06bb5c84c5"
      },
      "source": [
        "history = model.fit(train_generator,steps_per_epoch=100,epochs=100,validation_data=test_generator,validation_steps=50,verbose=1)"
      ],
      "execution_count": 24,
      "outputs": [
        {
          "output_type": "stream",
          "text": [
            "Epoch 1/100\n",
            "100/100 [==============================] - 102s 1s/step - loss: 0.6723 - accuracy: 0.5810 - val_loss: 0.6598 - val_accuracy: 0.6000\n",
            "Epoch 2/100\n",
            " 72/100 [====================>.........] - ETA: 24s - loss: 0.6386 - accuracy: 0.6278"
          ],
          "name": "stdout"
        },
        {
          "output_type": "error",
          "ename": "KeyboardInterrupt",
          "evalue": "ignored",
          "traceback": [
            "\u001b[0;31m---------------------------------------------------------------------------\u001b[0m",
            "\u001b[0;31mKeyboardInterrupt\u001b[0m                         Traceback (most recent call last)",
            "\u001b[0;32m<ipython-input-24-93a6a4ed19b4>\u001b[0m in \u001b[0;36m<module>\u001b[0;34m()\u001b[0m\n\u001b[0;32m----> 1\u001b[0;31m \u001b[0mhistory\u001b[0m \u001b[0;34m=\u001b[0m \u001b[0mmodel\u001b[0m\u001b[0;34m.\u001b[0m\u001b[0mfit\u001b[0m\u001b[0;34m(\u001b[0m\u001b[0mtrain_generator\u001b[0m\u001b[0;34m,\u001b[0m\u001b[0msteps_per_epoch\u001b[0m\u001b[0;34m=\u001b[0m\u001b[0;36m100\u001b[0m\u001b[0;34m,\u001b[0m\u001b[0mepochs\u001b[0m\u001b[0;34m=\u001b[0m\u001b[0;36m100\u001b[0m\u001b[0;34m,\u001b[0m\u001b[0mvalidation_data\u001b[0m\u001b[0;34m=\u001b[0m\u001b[0mtest_generator\u001b[0m\u001b[0;34m,\u001b[0m\u001b[0mvalidation_steps\u001b[0m\u001b[0;34m=\u001b[0m\u001b[0;36m50\u001b[0m\u001b[0;34m,\u001b[0m\u001b[0mverbose\u001b[0m\u001b[0;34m=\u001b[0m\u001b[0;36m1\u001b[0m\u001b[0;34m)\u001b[0m\u001b[0;34m\u001b[0m\u001b[0;34m\u001b[0m\u001b[0m\n\u001b[0m",
            "\u001b[0;32m/usr/local/lib/python3.6/dist-packages/tensorflow/python/keras/engine/training.py\u001b[0m in \u001b[0;36m_method_wrapper\u001b[0;34m(self, *args, **kwargs)\u001b[0m\n\u001b[1;32m     64\u001b[0m   \u001b[0;32mdef\u001b[0m \u001b[0m_method_wrapper\u001b[0m\u001b[0;34m(\u001b[0m\u001b[0mself\u001b[0m\u001b[0;34m,\u001b[0m \u001b[0;34m*\u001b[0m\u001b[0margs\u001b[0m\u001b[0;34m,\u001b[0m \u001b[0;34m**\u001b[0m\u001b[0mkwargs\u001b[0m\u001b[0;34m)\u001b[0m\u001b[0;34m:\u001b[0m\u001b[0;34m\u001b[0m\u001b[0;34m\u001b[0m\u001b[0m\n\u001b[1;32m     65\u001b[0m     \u001b[0;32mif\u001b[0m \u001b[0;32mnot\u001b[0m \u001b[0mself\u001b[0m\u001b[0;34m.\u001b[0m\u001b[0m_in_multi_worker_mode\u001b[0m\u001b[0;34m(\u001b[0m\u001b[0;34m)\u001b[0m\u001b[0;34m:\u001b[0m  \u001b[0;31m# pylint: disable=protected-access\u001b[0m\u001b[0;34m\u001b[0m\u001b[0;34m\u001b[0m\u001b[0m\n\u001b[0;32m---> 66\u001b[0;31m       \u001b[0;32mreturn\u001b[0m \u001b[0mmethod\u001b[0m\u001b[0;34m(\u001b[0m\u001b[0mself\u001b[0m\u001b[0;34m,\u001b[0m \u001b[0;34m*\u001b[0m\u001b[0margs\u001b[0m\u001b[0;34m,\u001b[0m \u001b[0;34m**\u001b[0m\u001b[0mkwargs\u001b[0m\u001b[0;34m)\u001b[0m\u001b[0;34m\u001b[0m\u001b[0;34m\u001b[0m\u001b[0m\n\u001b[0m\u001b[1;32m     67\u001b[0m \u001b[0;34m\u001b[0m\u001b[0m\n\u001b[1;32m     68\u001b[0m     \u001b[0;31m# Running inside `run_distribute_coordinator` already.\u001b[0m\u001b[0;34m\u001b[0m\u001b[0;34m\u001b[0m\u001b[0;34m\u001b[0m\u001b[0m\n",
            "\u001b[0;32m/usr/local/lib/python3.6/dist-packages/tensorflow/python/keras/engine/training.py\u001b[0m in \u001b[0;36mfit\u001b[0;34m(self, x, y, batch_size, epochs, verbose, callbacks, validation_split, validation_data, shuffle, class_weight, sample_weight, initial_epoch, steps_per_epoch, validation_steps, validation_batch_size, validation_freq, max_queue_size, workers, use_multiprocessing)\u001b[0m\n\u001b[1;32m    846\u001b[0m                 batch_size=batch_size):\n\u001b[1;32m    847\u001b[0m               \u001b[0mcallbacks\u001b[0m\u001b[0;34m.\u001b[0m\u001b[0mon_train_batch_begin\u001b[0m\u001b[0;34m(\u001b[0m\u001b[0mstep\u001b[0m\u001b[0;34m)\u001b[0m\u001b[0;34m\u001b[0m\u001b[0;34m\u001b[0m\u001b[0m\n\u001b[0;32m--> 848\u001b[0;31m               \u001b[0mtmp_logs\u001b[0m \u001b[0;34m=\u001b[0m \u001b[0mtrain_function\u001b[0m\u001b[0;34m(\u001b[0m\u001b[0miterator\u001b[0m\u001b[0;34m)\u001b[0m\u001b[0;34m\u001b[0m\u001b[0;34m\u001b[0m\u001b[0m\n\u001b[0m\u001b[1;32m    849\u001b[0m               \u001b[0;31m# Catch OutOfRangeError for Datasets of unknown size.\u001b[0m\u001b[0;34m\u001b[0m\u001b[0;34m\u001b[0m\u001b[0;34m\u001b[0m\u001b[0m\n\u001b[1;32m    850\u001b[0m               \u001b[0;31m# This blocks until the batch has finished executing.\u001b[0m\u001b[0;34m\u001b[0m\u001b[0;34m\u001b[0m\u001b[0;34m\u001b[0m\u001b[0m\n",
            "\u001b[0;32m/usr/local/lib/python3.6/dist-packages/tensorflow/python/eager/def_function.py\u001b[0m in \u001b[0;36m__call__\u001b[0;34m(self, *args, **kwds)\u001b[0m\n\u001b[1;32m    578\u001b[0m         \u001b[0mxla_context\u001b[0m\u001b[0;34m.\u001b[0m\u001b[0mExit\u001b[0m\u001b[0;34m(\u001b[0m\u001b[0;34m)\u001b[0m\u001b[0;34m\u001b[0m\u001b[0;34m\u001b[0m\u001b[0m\n\u001b[1;32m    579\u001b[0m     \u001b[0;32melse\u001b[0m\u001b[0;34m:\u001b[0m\u001b[0;34m\u001b[0m\u001b[0;34m\u001b[0m\u001b[0m\n\u001b[0;32m--> 580\u001b[0;31m       \u001b[0mresult\u001b[0m \u001b[0;34m=\u001b[0m \u001b[0mself\u001b[0m\u001b[0;34m.\u001b[0m\u001b[0m_call\u001b[0m\u001b[0;34m(\u001b[0m\u001b[0;34m*\u001b[0m\u001b[0margs\u001b[0m\u001b[0;34m,\u001b[0m \u001b[0;34m**\u001b[0m\u001b[0mkwds\u001b[0m\u001b[0;34m)\u001b[0m\u001b[0;34m\u001b[0m\u001b[0;34m\u001b[0m\u001b[0m\n\u001b[0m\u001b[1;32m    581\u001b[0m \u001b[0;34m\u001b[0m\u001b[0m\n\u001b[1;32m    582\u001b[0m     \u001b[0;32mif\u001b[0m \u001b[0mtracing_count\u001b[0m \u001b[0;34m==\u001b[0m \u001b[0mself\u001b[0m\u001b[0;34m.\u001b[0m\u001b[0m_get_tracing_count\u001b[0m\u001b[0;34m(\u001b[0m\u001b[0;34m)\u001b[0m\u001b[0;34m:\u001b[0m\u001b[0;34m\u001b[0m\u001b[0;34m\u001b[0m\u001b[0m\n",
            "\u001b[0;32m/usr/local/lib/python3.6/dist-packages/tensorflow/python/eager/def_function.py\u001b[0m in \u001b[0;36m_call\u001b[0;34m(self, *args, **kwds)\u001b[0m\n\u001b[1;32m    609\u001b[0m       \u001b[0;31m# In this case we have created variables on the first call, so we run the\u001b[0m\u001b[0;34m\u001b[0m\u001b[0;34m\u001b[0m\u001b[0;34m\u001b[0m\u001b[0m\n\u001b[1;32m    610\u001b[0m       \u001b[0;31m# defunned version which is guaranteed to never create variables.\u001b[0m\u001b[0;34m\u001b[0m\u001b[0;34m\u001b[0m\u001b[0;34m\u001b[0m\u001b[0m\n\u001b[0;32m--> 611\u001b[0;31m       \u001b[0;32mreturn\u001b[0m \u001b[0mself\u001b[0m\u001b[0;34m.\u001b[0m\u001b[0m_stateless_fn\u001b[0m\u001b[0;34m(\u001b[0m\u001b[0;34m*\u001b[0m\u001b[0margs\u001b[0m\u001b[0;34m,\u001b[0m \u001b[0;34m**\u001b[0m\u001b[0mkwds\u001b[0m\u001b[0;34m)\u001b[0m  \u001b[0;31m# pylint: disable=not-callable\u001b[0m\u001b[0;34m\u001b[0m\u001b[0;34m\u001b[0m\u001b[0m\n\u001b[0m\u001b[1;32m    612\u001b[0m     \u001b[0;32melif\u001b[0m \u001b[0mself\u001b[0m\u001b[0;34m.\u001b[0m\u001b[0m_stateful_fn\u001b[0m \u001b[0;32mis\u001b[0m \u001b[0;32mnot\u001b[0m \u001b[0;32mNone\u001b[0m\u001b[0;34m:\u001b[0m\u001b[0;34m\u001b[0m\u001b[0;34m\u001b[0m\u001b[0m\n\u001b[1;32m    613\u001b[0m       \u001b[0;31m# Release the lock early so that multiple threads can perform the call\u001b[0m\u001b[0;34m\u001b[0m\u001b[0;34m\u001b[0m\u001b[0;34m\u001b[0m\u001b[0m\n",
            "\u001b[0;32m/usr/local/lib/python3.6/dist-packages/tensorflow/python/eager/function.py\u001b[0m in \u001b[0;36m__call__\u001b[0;34m(self, *args, **kwargs)\u001b[0m\n\u001b[1;32m   2418\u001b[0m     \u001b[0;32mwith\u001b[0m \u001b[0mself\u001b[0m\u001b[0;34m.\u001b[0m\u001b[0m_lock\u001b[0m\u001b[0;34m:\u001b[0m\u001b[0;34m\u001b[0m\u001b[0;34m\u001b[0m\u001b[0m\n\u001b[1;32m   2419\u001b[0m       \u001b[0mgraph_function\u001b[0m\u001b[0;34m,\u001b[0m \u001b[0margs\u001b[0m\u001b[0;34m,\u001b[0m \u001b[0mkwargs\u001b[0m \u001b[0;34m=\u001b[0m \u001b[0mself\u001b[0m\u001b[0;34m.\u001b[0m\u001b[0m_maybe_define_function\u001b[0m\u001b[0;34m(\u001b[0m\u001b[0margs\u001b[0m\u001b[0;34m,\u001b[0m \u001b[0mkwargs\u001b[0m\u001b[0;34m)\u001b[0m\u001b[0;34m\u001b[0m\u001b[0;34m\u001b[0m\u001b[0m\n\u001b[0;32m-> 2420\u001b[0;31m     \u001b[0;32mreturn\u001b[0m \u001b[0mgraph_function\u001b[0m\u001b[0;34m.\u001b[0m\u001b[0m_filtered_call\u001b[0m\u001b[0;34m(\u001b[0m\u001b[0margs\u001b[0m\u001b[0;34m,\u001b[0m \u001b[0mkwargs\u001b[0m\u001b[0;34m)\u001b[0m  \u001b[0;31m# pylint: disable=protected-access\u001b[0m\u001b[0;34m\u001b[0m\u001b[0;34m\u001b[0m\u001b[0m\n\u001b[0m\u001b[1;32m   2421\u001b[0m \u001b[0;34m\u001b[0m\u001b[0m\n\u001b[1;32m   2422\u001b[0m   \u001b[0;34m@\u001b[0m\u001b[0mproperty\u001b[0m\u001b[0;34m\u001b[0m\u001b[0;34m\u001b[0m\u001b[0m\n",
            "\u001b[0;32m/usr/local/lib/python3.6/dist-packages/tensorflow/python/eager/function.py\u001b[0m in \u001b[0;36m_filtered_call\u001b[0;34m(self, args, kwargs)\u001b[0m\n\u001b[1;32m   1663\u001b[0m          if isinstance(t, (ops.Tensor,\n\u001b[1;32m   1664\u001b[0m                            resource_variable_ops.BaseResourceVariable))),\n\u001b[0;32m-> 1665\u001b[0;31m         self.captured_inputs)\n\u001b[0m\u001b[1;32m   1666\u001b[0m \u001b[0;34m\u001b[0m\u001b[0m\n\u001b[1;32m   1667\u001b[0m   \u001b[0;32mdef\u001b[0m \u001b[0m_call_flat\u001b[0m\u001b[0;34m(\u001b[0m\u001b[0mself\u001b[0m\u001b[0;34m,\u001b[0m \u001b[0margs\u001b[0m\u001b[0;34m,\u001b[0m \u001b[0mcaptured_inputs\u001b[0m\u001b[0;34m,\u001b[0m \u001b[0mcancellation_manager\u001b[0m\u001b[0;34m=\u001b[0m\u001b[0;32mNone\u001b[0m\u001b[0;34m)\u001b[0m\u001b[0;34m:\u001b[0m\u001b[0;34m\u001b[0m\u001b[0;34m\u001b[0m\u001b[0m\n",
            "\u001b[0;32m/usr/local/lib/python3.6/dist-packages/tensorflow/python/eager/function.py\u001b[0m in \u001b[0;36m_call_flat\u001b[0;34m(self, args, captured_inputs, cancellation_manager)\u001b[0m\n\u001b[1;32m   1744\u001b[0m       \u001b[0;31m# No tape is watching; skip to running the function.\u001b[0m\u001b[0;34m\u001b[0m\u001b[0;34m\u001b[0m\u001b[0;34m\u001b[0m\u001b[0m\n\u001b[1;32m   1745\u001b[0m       return self._build_call_outputs(self._inference_function.call(\n\u001b[0;32m-> 1746\u001b[0;31m           ctx, args, cancellation_manager=cancellation_manager))\n\u001b[0m\u001b[1;32m   1747\u001b[0m     forward_backward = self._select_forward_and_backward_functions(\n\u001b[1;32m   1748\u001b[0m         \u001b[0margs\u001b[0m\u001b[0;34m,\u001b[0m\u001b[0;34m\u001b[0m\u001b[0;34m\u001b[0m\u001b[0m\n",
            "\u001b[0;32m/usr/local/lib/python3.6/dist-packages/tensorflow/python/eager/function.py\u001b[0m in \u001b[0;36mcall\u001b[0;34m(self, ctx, args, cancellation_manager)\u001b[0m\n\u001b[1;32m    596\u001b[0m               \u001b[0minputs\u001b[0m\u001b[0;34m=\u001b[0m\u001b[0margs\u001b[0m\u001b[0;34m,\u001b[0m\u001b[0;34m\u001b[0m\u001b[0;34m\u001b[0m\u001b[0m\n\u001b[1;32m    597\u001b[0m               \u001b[0mattrs\u001b[0m\u001b[0;34m=\u001b[0m\u001b[0mattrs\u001b[0m\u001b[0;34m,\u001b[0m\u001b[0;34m\u001b[0m\u001b[0;34m\u001b[0m\u001b[0m\n\u001b[0;32m--> 598\u001b[0;31m               ctx=ctx)\n\u001b[0m\u001b[1;32m    599\u001b[0m         \u001b[0;32melse\u001b[0m\u001b[0;34m:\u001b[0m\u001b[0;34m\u001b[0m\u001b[0;34m\u001b[0m\u001b[0m\n\u001b[1;32m    600\u001b[0m           outputs = execute.execute_with_cancellation(\n",
            "\u001b[0;32m/usr/local/lib/python3.6/dist-packages/tensorflow/python/eager/execute.py\u001b[0m in \u001b[0;36mquick_execute\u001b[0;34m(op_name, num_outputs, inputs, attrs, ctx, name)\u001b[0m\n\u001b[1;32m     58\u001b[0m     \u001b[0mctx\u001b[0m\u001b[0;34m.\u001b[0m\u001b[0mensure_initialized\u001b[0m\u001b[0;34m(\u001b[0m\u001b[0;34m)\u001b[0m\u001b[0;34m\u001b[0m\u001b[0;34m\u001b[0m\u001b[0m\n\u001b[1;32m     59\u001b[0m     tensors = pywrap_tfe.TFE_Py_Execute(ctx._handle, device_name, op_name,\n\u001b[0;32m---> 60\u001b[0;31m                                         inputs, attrs, num_outputs)\n\u001b[0m\u001b[1;32m     61\u001b[0m   \u001b[0;32mexcept\u001b[0m \u001b[0mcore\u001b[0m\u001b[0;34m.\u001b[0m\u001b[0m_NotOkStatusException\u001b[0m \u001b[0;32mas\u001b[0m \u001b[0me\u001b[0m\u001b[0;34m:\u001b[0m\u001b[0;34m\u001b[0m\u001b[0;34m\u001b[0m\u001b[0m\n\u001b[1;32m     62\u001b[0m     \u001b[0;32mif\u001b[0m \u001b[0mname\u001b[0m \u001b[0;32mis\u001b[0m \u001b[0;32mnot\u001b[0m \u001b[0;32mNone\u001b[0m\u001b[0;34m:\u001b[0m\u001b[0;34m\u001b[0m\u001b[0;34m\u001b[0m\u001b[0m\n",
            "\u001b[0;31mKeyboardInterrupt\u001b[0m: "
          ]
        }
      ]
    },
    {
      "cell_type": "code",
      "metadata": {
        "id": "fVNbbgnuTdHt",
        "colab_type": "code",
        "colab": {
          "base_uri": "https://localhost:8080/",
          "height": 1000
        },
        "outputId": "8a7ed8d9-45dc-434c-c2af-014c8488b0a4"
      },
      "source": [
        "history = model.fit(train_generator,steps_per_epoch=100,epochs=100,validation_data=test_generator,validation_steps=50,verbose=1)"
      ],
      "execution_count": 27,
      "outputs": [
        {
          "output_type": "stream",
          "text": [
            "Epoch 1/100\n",
            "100/100 [==============================] - 110s 1s/step - loss: 0.6502 - accuracy: 0.6155 - val_loss: 0.6015 - val_accuracy: 0.6760\n",
            "Epoch 2/100\n",
            "100/100 [==============================] - 110s 1s/step - loss: 0.6317 - accuracy: 0.6370 - val_loss: 0.5928 - val_accuracy: 0.6900\n",
            "Epoch 3/100\n",
            "100/100 [==============================] - 110s 1s/step - loss: 0.6314 - accuracy: 0.6365 - val_loss: 0.5856 - val_accuracy: 0.7040\n",
            "Epoch 4/100\n",
            "100/100 [==============================] - 110s 1s/step - loss: 0.6141 - accuracy: 0.6555 - val_loss: 0.5797 - val_accuracy: 0.6960\n",
            "Epoch 5/100\n",
            "100/100 [==============================] - 110s 1s/step - loss: 0.5938 - accuracy: 0.6755 - val_loss: 0.5451 - val_accuracy: 0.7420\n",
            "Epoch 6/100\n",
            "100/100 [==============================] - 110s 1s/step - loss: 0.5900 - accuracy: 0.6830 - val_loss: 0.5462 - val_accuracy: 0.7180\n",
            "Epoch 7/100\n",
            "100/100 [==============================] - 110s 1s/step - loss: 0.5831 - accuracy: 0.6875 - val_loss: 0.6274 - val_accuracy: 0.6650\n",
            "Epoch 8/100\n",
            "100/100 [==============================] - 110s 1s/step - loss: 0.5790 - accuracy: 0.6915 - val_loss: 0.5365 - val_accuracy: 0.7210\n",
            "Epoch 9/100\n",
            "100/100 [==============================] - 110s 1s/step - loss: 0.5717 - accuracy: 0.6970 - val_loss: 0.5886 - val_accuracy: 0.6730\n",
            "Epoch 10/100\n",
            "100/100 [==============================] - 110s 1s/step - loss: 0.5747 - accuracy: 0.7025 - val_loss: 0.5362 - val_accuracy: 0.7220\n",
            "Epoch 11/100\n",
            "100/100 [==============================] - 110s 1s/step - loss: 0.5490 - accuracy: 0.7165 - val_loss: 0.5206 - val_accuracy: 0.7310\n",
            "Epoch 12/100\n",
            "100/100 [==============================] - 110s 1s/step - loss: 0.5506 - accuracy: 0.7065 - val_loss: 0.5056 - val_accuracy: 0.7520\n",
            "Epoch 13/100\n",
            "100/100 [==============================] - 110s 1s/step - loss: 0.5410 - accuracy: 0.7220 - val_loss: 0.5650 - val_accuracy: 0.7040\n",
            "Epoch 14/100\n",
            "100/100 [==============================] - 110s 1s/step - loss: 0.5504 - accuracy: 0.7215 - val_loss: 0.5236 - val_accuracy: 0.7380\n",
            "Epoch 15/100\n",
            "100/100 [==============================] - 110s 1s/step - loss: 0.5334 - accuracy: 0.7305 - val_loss: 0.5127 - val_accuracy: 0.7440\n",
            "Epoch 16/100\n",
            "100/100 [==============================] - 110s 1s/step - loss: 0.5371 - accuracy: 0.7275 - val_loss: 0.5631 - val_accuracy: 0.7110\n",
            "Epoch 17/100\n",
            "100/100 [==============================] - 110s 1s/step - loss: 0.5323 - accuracy: 0.7350 - val_loss: 0.5167 - val_accuracy: 0.7310\n",
            "Epoch 18/100\n",
            "100/100 [==============================] - 110s 1s/step - loss: 0.5270 - accuracy: 0.7245 - val_loss: 0.4906 - val_accuracy: 0.7600\n",
            "Epoch 19/100\n",
            "100/100 [==============================] - 110s 1s/step - loss: 0.5140 - accuracy: 0.7470 - val_loss: 0.5328 - val_accuracy: 0.7320\n",
            "Epoch 20/100\n",
            "100/100 [==============================] - 110s 1s/step - loss: 0.5154 - accuracy: 0.7380 - val_loss: 0.4946 - val_accuracy: 0.7400\n",
            "Epoch 21/100\n",
            "100/100 [==============================] - 110s 1s/step - loss: 0.5144 - accuracy: 0.7425 - val_loss: 0.5130 - val_accuracy: 0.7360\n",
            "Epoch 22/100\n",
            "100/100 [==============================] - 110s 1s/step - loss: 0.5222 - accuracy: 0.7420 - val_loss: 0.5302 - val_accuracy: 0.7440\n",
            "Epoch 23/100\n",
            "100/100 [==============================] - 110s 1s/step - loss: 0.5016 - accuracy: 0.7565 - val_loss: 0.4984 - val_accuracy: 0.7520\n",
            "Epoch 24/100\n",
            "100/100 [==============================] - 110s 1s/step - loss: 0.5007 - accuracy: 0.7535 - val_loss: 0.4819 - val_accuracy: 0.7600\n",
            "Epoch 25/100\n",
            "100/100 [==============================] - 110s 1s/step - loss: 0.4976 - accuracy: 0.7520 - val_loss: 0.4667 - val_accuracy: 0.7600\n",
            "Epoch 26/100\n",
            "100/100 [==============================] - 110s 1s/step - loss: 0.5032 - accuracy: 0.7555 - val_loss: 0.4662 - val_accuracy: 0.7550\n",
            "Epoch 27/100\n",
            "100/100 [==============================] - 110s 1s/step - loss: 0.4949 - accuracy: 0.7625 - val_loss: 0.4696 - val_accuracy: 0.7590\n",
            "Epoch 28/100\n",
            "100/100 [==============================] - 110s 1s/step - loss: 0.4913 - accuracy: 0.7475 - val_loss: 0.4636 - val_accuracy: 0.7760\n",
            "Epoch 29/100\n",
            "100/100 [==============================] - 110s 1s/step - loss: 0.4973 - accuracy: 0.7585 - val_loss: 0.4613 - val_accuracy: 0.7660\n",
            "Epoch 30/100\n",
            "100/100 [==============================] - 110s 1s/step - loss: 0.4761 - accuracy: 0.7640 - val_loss: 0.4777 - val_accuracy: 0.7570\n",
            "Epoch 31/100\n",
            "100/100 [==============================] - 110s 1s/step - loss: 0.4890 - accuracy: 0.7655 - val_loss: 0.4892 - val_accuracy: 0.7610\n",
            "Epoch 32/100\n",
            "100/100 [==============================] - 110s 1s/step - loss: 0.4871 - accuracy: 0.7615 - val_loss: 0.4670 - val_accuracy: 0.7710\n",
            "Epoch 33/100\n",
            "100/100 [==============================] - 110s 1s/step - loss: 0.4828 - accuracy: 0.7730 - val_loss: 0.4716 - val_accuracy: 0.7710\n",
            "Epoch 34/100\n",
            "100/100 [==============================] - 110s 1s/step - loss: 0.4756 - accuracy: 0.7745 - val_loss: 0.5147 - val_accuracy: 0.7360\n",
            "Epoch 35/100\n",
            "100/100 [==============================] - 110s 1s/step - loss: 0.4654 - accuracy: 0.7945 - val_loss: 0.4573 - val_accuracy: 0.7770\n",
            "Epoch 36/100\n",
            "100/100 [==============================] - 110s 1s/step - loss: 0.4690 - accuracy: 0.7680 - val_loss: 0.5055 - val_accuracy: 0.7610\n",
            "Epoch 37/100\n",
            "100/100 [==============================] - 114s 1s/step - loss: 0.4733 - accuracy: 0.7740 - val_loss: 0.4449 - val_accuracy: 0.7930\n",
            "Epoch 38/100\n",
            "100/100 [==============================] - 110s 1s/step - loss: 0.4605 - accuracy: 0.7890 - val_loss: 0.4553 - val_accuracy: 0.7750\n",
            "Epoch 39/100\n",
            "100/100 [==============================] - 110s 1s/step - loss: 0.4580 - accuracy: 0.7760 - val_loss: 0.4651 - val_accuracy: 0.7850\n",
            "Epoch 40/100\n",
            "100/100 [==============================] - 110s 1s/step - loss: 0.4577 - accuracy: 0.7940 - val_loss: 0.4338 - val_accuracy: 0.7880\n",
            "Epoch 41/100\n",
            "100/100 [==============================] - 110s 1s/step - loss: 0.4510 - accuracy: 0.7890 - val_loss: 0.4977 - val_accuracy: 0.7580\n",
            "Epoch 42/100\n",
            "100/100 [==============================] - 110s 1s/step - loss: 0.4388 - accuracy: 0.7905 - val_loss: 0.5197 - val_accuracy: 0.7490\n",
            "Epoch 43/100\n",
            "100/100 [==============================] - 110s 1s/step - loss: 0.4521 - accuracy: 0.7875 - val_loss: 0.4542 - val_accuracy: 0.7820\n",
            "Epoch 44/100\n",
            "100/100 [==============================] - 110s 1s/step - loss: 0.4502 - accuracy: 0.7935 - val_loss: 0.4757 - val_accuracy: 0.7660\n",
            "Epoch 45/100\n",
            "100/100 [==============================] - 110s 1s/step - loss: 0.4407 - accuracy: 0.7940 - val_loss: 0.4442 - val_accuracy: 0.7860\n",
            "Epoch 46/100\n",
            "100/100 [==============================] - 110s 1s/step - loss: 0.4497 - accuracy: 0.7850 - val_loss: 0.4404 - val_accuracy: 0.7900\n",
            "Epoch 47/100\n",
            "100/100 [==============================] - 110s 1s/step - loss: 0.4405 - accuracy: 0.7950 - val_loss: 0.4462 - val_accuracy: 0.7740\n",
            "Epoch 48/100\n",
            "100/100 [==============================] - 110s 1s/step - loss: 0.4522 - accuracy: 0.7935 - val_loss: 0.5206 - val_accuracy: 0.7490\n",
            "Epoch 49/100\n",
            "100/100 [==============================] - 110s 1s/step - loss: 0.4392 - accuracy: 0.7950 - val_loss: 0.5577 - val_accuracy: 0.7250\n",
            "Epoch 50/100\n",
            "100/100 [==============================] - 110s 1s/step - loss: 0.4339 - accuracy: 0.8035 - val_loss: 0.4896 - val_accuracy: 0.7440\n",
            "Epoch 51/100\n",
            "100/100 [==============================] - 110s 1s/step - loss: 0.4322 - accuracy: 0.8030 - val_loss: 0.4881 - val_accuracy: 0.7570\n",
            "Epoch 52/100\n",
            "100/100 [==============================] - 110s 1s/step - loss: 0.4166 - accuracy: 0.8105 - val_loss: 0.5035 - val_accuracy: 0.7670\n",
            "Epoch 53/100\n",
            "100/100 [==============================] - 110s 1s/step - loss: 0.4281 - accuracy: 0.7965 - val_loss: 0.4989 - val_accuracy: 0.7600\n",
            "Epoch 54/100\n",
            "100/100 [==============================] - 110s 1s/step - loss: 0.4241 - accuracy: 0.7970 - val_loss: 0.4563 - val_accuracy: 0.7970\n",
            "Epoch 55/100\n",
            "100/100 [==============================] - 110s 1s/step - loss: 0.4273 - accuracy: 0.8085 - val_loss: 0.4250 - val_accuracy: 0.8130\n",
            "Epoch 56/100\n",
            "100/100 [==============================] - 110s 1s/step - loss: 0.4179 - accuracy: 0.8090 - val_loss: 0.4397 - val_accuracy: 0.7790\n",
            "Epoch 57/100\n",
            "100/100 [==============================] - 110s 1s/step - loss: 0.4262 - accuracy: 0.8105 - val_loss: 0.4304 - val_accuracy: 0.8000\n",
            "Epoch 58/100\n",
            "100/100 [==============================] - 109s 1s/step - loss: 0.4193 - accuracy: 0.8035 - val_loss: 0.5113 - val_accuracy: 0.7540\n",
            "Epoch 59/100\n",
            "100/100 [==============================] - 110s 1s/step - loss: 0.4223 - accuracy: 0.8040 - val_loss: 0.4237 - val_accuracy: 0.8100\n",
            "Epoch 60/100\n",
            "100/100 [==============================] - 109s 1s/step - loss: 0.3937 - accuracy: 0.8170 - val_loss: 0.4242 - val_accuracy: 0.7910\n",
            "Epoch 61/100\n",
            "100/100 [==============================] - 110s 1s/step - loss: 0.4138 - accuracy: 0.8080 - val_loss: 0.5429 - val_accuracy: 0.7450\n",
            "Epoch 62/100\n",
            "100/100 [==============================] - 110s 1s/step - loss: 0.4023 - accuracy: 0.8200 - val_loss: 0.4241 - val_accuracy: 0.8060\n",
            "Epoch 63/100\n",
            "100/100 [==============================] - 110s 1s/step - loss: 0.4116 - accuracy: 0.8160 - val_loss: 0.4705 - val_accuracy: 0.7780\n",
            "Epoch 64/100\n",
            "100/100 [==============================] - 110s 1s/step - loss: 0.4023 - accuracy: 0.8055 - val_loss: 0.4363 - val_accuracy: 0.7960\n",
            "Epoch 65/100\n",
            "100/100 [==============================] - 110s 1s/step - loss: 0.3936 - accuracy: 0.8255 - val_loss: 0.4215 - val_accuracy: 0.8000\n",
            "Epoch 66/100\n",
            "100/100 [==============================] - 110s 1s/step - loss: 0.3961 - accuracy: 0.8210 - val_loss: 0.4446 - val_accuracy: 0.8010\n",
            "Epoch 67/100\n",
            "100/100 [==============================] - 110s 1s/step - loss: 0.3991 - accuracy: 0.8200 - val_loss: 0.4215 - val_accuracy: 0.8140\n",
            "Epoch 68/100\n",
            "100/100 [==============================] - 109s 1s/step - loss: 0.3899 - accuracy: 0.8240 - val_loss: 0.4527 - val_accuracy: 0.7890\n",
            "Epoch 69/100\n",
            "100/100 [==============================] - 110s 1s/step - loss: 0.3936 - accuracy: 0.8195 - val_loss: 0.4312 - val_accuracy: 0.8070\n",
            "Epoch 70/100\n",
            "100/100 [==============================] - 110s 1s/step - loss: 0.3849 - accuracy: 0.8245 - val_loss: 0.4600 - val_accuracy: 0.7810\n",
            "Epoch 71/100\n",
            "100/100 [==============================] - 110s 1s/step - loss: 0.3956 - accuracy: 0.8275 - val_loss: 0.4297 - val_accuracy: 0.7960\n",
            "Epoch 72/100\n",
            "100/100 [==============================] - 109s 1s/step - loss: 0.3809 - accuracy: 0.8310 - val_loss: 0.4266 - val_accuracy: 0.7940\n",
            "Epoch 73/100\n",
            "100/100 [==============================] - 110s 1s/step - loss: 0.3923 - accuracy: 0.8160 - val_loss: 0.5281 - val_accuracy: 0.7600\n",
            "Epoch 74/100\n",
            "100/100 [==============================] - 110s 1s/step - loss: 0.3830 - accuracy: 0.8300 - val_loss: 0.4260 - val_accuracy: 0.8080\n",
            "Epoch 75/100\n",
            "100/100 [==============================] - 110s 1s/step - loss: 0.3993 - accuracy: 0.8200 - val_loss: 0.3973 - val_accuracy: 0.8120\n",
            "Epoch 76/100\n",
            "100/100 [==============================] - 110s 1s/step - loss: 0.3736 - accuracy: 0.8320 - val_loss: 0.4649 - val_accuracy: 0.7790\n",
            "Epoch 77/100\n",
            "100/100 [==============================] - 114s 1s/step - loss: 0.3804 - accuracy: 0.8305 - val_loss: 0.4384 - val_accuracy: 0.7910\n",
            "Epoch 78/100\n",
            "100/100 [==============================] - 110s 1s/step - loss: 0.3795 - accuracy: 0.8350 - val_loss: 0.4255 - val_accuracy: 0.8060\n",
            "Epoch 79/100\n",
            "100/100 [==============================] - 110s 1s/step - loss: 0.3812 - accuracy: 0.8245 - val_loss: 0.3979 - val_accuracy: 0.8080\n",
            "Epoch 80/100\n",
            "100/100 [==============================] - 110s 1s/step - loss: 0.3727 - accuracy: 0.8285 - val_loss: 0.4146 - val_accuracy: 0.8130\n",
            "Epoch 81/100\n",
            "100/100 [==============================] - 110s 1s/step - loss: 0.3737 - accuracy: 0.8255 - val_loss: 0.4119 - val_accuracy: 0.8160\n",
            "Epoch 82/100\n",
            "100/100 [==============================] - 110s 1s/step - loss: 0.3649 - accuracy: 0.8380 - val_loss: 0.4658 - val_accuracy: 0.7980\n",
            "Epoch 83/100\n",
            "100/100 [==============================] - 109s 1s/step - loss: 0.3722 - accuracy: 0.8310 - val_loss: 0.4293 - val_accuracy: 0.8140\n",
            "Epoch 84/100\n",
            "100/100 [==============================] - 109s 1s/step - loss: 0.3640 - accuracy: 0.8360 - val_loss: 0.4040 - val_accuracy: 0.8190\n",
            "Epoch 85/100\n",
            "100/100 [==============================] - 110s 1s/step - loss: 0.3596 - accuracy: 0.8375 - val_loss: 0.4107 - val_accuracy: 0.8130\n",
            "Epoch 86/100\n",
            "100/100 [==============================] - 109s 1s/step - loss: 0.3713 - accuracy: 0.8390 - val_loss: 0.4093 - val_accuracy: 0.8070\n",
            "Epoch 87/100\n",
            "100/100 [==============================] - 110s 1s/step - loss: 0.3526 - accuracy: 0.8525 - val_loss: 0.4068 - val_accuracy: 0.8110\n",
            "Epoch 88/100\n",
            "100/100 [==============================] - 110s 1s/step - loss: 0.3643 - accuracy: 0.8455 - val_loss: 0.4222 - val_accuracy: 0.8070\n",
            "Epoch 89/100\n",
            "100/100 [==============================] - 110s 1s/step - loss: 0.3597 - accuracy: 0.8345 - val_loss: 0.3949 - val_accuracy: 0.8260\n",
            "Epoch 90/100\n",
            "100/100 [==============================] - 110s 1s/step - loss: 0.3489 - accuracy: 0.8520 - val_loss: 0.4118 - val_accuracy: 0.8160\n",
            "Epoch 91/100\n",
            "100/100 [==============================] - 109s 1s/step - loss: 0.3563 - accuracy: 0.8405 - val_loss: 0.4162 - val_accuracy: 0.8060\n",
            "Epoch 92/100\n",
            "100/100 [==============================] - 110s 1s/step - loss: 0.3466 - accuracy: 0.8465 - val_loss: 0.4221 - val_accuracy: 0.8130\n",
            "Epoch 93/100\n",
            "100/100 [==============================] - 114s 1s/step - loss: 0.3477 - accuracy: 0.8485 - val_loss: 0.3993 - val_accuracy: 0.8210\n",
            "Epoch 94/100\n",
            "100/100 [==============================] - 113s 1s/step - loss: 0.3476 - accuracy: 0.8460 - val_loss: 0.4058 - val_accuracy: 0.8100\n",
            "Epoch 95/100\n",
            "100/100 [==============================] - 113s 1s/step - loss: 0.3549 - accuracy: 0.8455 - val_loss: 0.3921 - val_accuracy: 0.8240\n",
            "Epoch 96/100\n",
            "100/100 [==============================] - 112s 1s/step - loss: 0.3445 - accuracy: 0.8455 - val_loss: 0.3845 - val_accuracy: 0.8350\n",
            "Epoch 97/100\n",
            "100/100 [==============================] - 110s 1s/step - loss: 0.3402 - accuracy: 0.8535 - val_loss: 0.3945 - val_accuracy: 0.8130\n",
            "Epoch 98/100\n",
            "100/100 [==============================] - 109s 1s/step - loss: 0.3430 - accuracy: 0.8525 - val_loss: 0.6152 - val_accuracy: 0.7300\n",
            "Epoch 99/100\n",
            "100/100 [==============================] - 109s 1s/step - loss: 0.3406 - accuracy: 0.8525 - val_loss: 0.3956 - val_accuracy: 0.8200\n",
            "Epoch 100/100\n",
            "100/100 [==============================] - 109s 1s/step - loss: 0.3394 - accuracy: 0.8525 - val_loss: 0.3889 - val_accuracy: 0.8270\n"
          ],
          "name": "stdout"
        }
      ]
    },
    {
      "cell_type": "code",
      "metadata": {
        "id": "xRJMCHs9UWEo",
        "colab_type": "code",
        "colab": {
          "base_uri": "https://localhost:8080/",
          "height": 545
        },
        "outputId": "51019651-36be-4609-8826-3d0af02d2913"
      },
      "source": [
        "import matplotlib.pyplot as plt \n",
        "\n",
        "acc = history.history[\"accuracy\"]\n",
        "val_acc= history.history[\"val_accuracy\"]\n",
        "loss = history.history[\"loss\"]\n",
        "val_loss = history.history[\"val_loss\"]\n",
        "\n",
        "epochs= range(len(acc))\n",
        "\n",
        "plt.plot(epochs,acc,'r',label=\"Training Accuracy\")\n",
        "plt.plot(epochs,val_acc,\"b\",label=\"Validation Accuracy\")\n",
        "plt.title(\"trainig and validation Accucracy\")\n",
        "plt.figure()\n",
        "\n",
        "plt.plot(epochs, loss, 'r', label='Training Loss')\n",
        "plt.plot(epochs, val_loss, 'b', label='Validation Loss')\n",
        "plt.title('Training and validation loss')\n",
        "plt.legend()\n",
        "\n",
        "plt.show()\n"
      ],
      "execution_count": 32,
      "outputs": [
        {
          "output_type": "display_data",
          "data": {
            "image/png": "[encoded data removed]",
            "text/plain": [
              "<Figure size 432x288 with 1 Axes>"
            ]
          },
          "metadata": {
            "tags": [],
            "needs_background": "light"
          }
        },
        {
          "output_type": "display_data",
          "data": {
            "image/png": "[encoded data removed]",
            "text/plain": [
              "<Figure size 432x288 with 1 Axes>"
            ]
          },
          "metadata": {
            "tags": [],
            "needs_background": "light"
          }
        }
      ]
    },
    {
      "cell_type": "code",
      "metadata": {
        "id": "I3MyOPn9CfaH",
        "colab_type": "code",
        "colab": {}
      },
      "source": [
        ""
      ],
      "execution_count": null,
      "outputs": []
    }
  ]
}